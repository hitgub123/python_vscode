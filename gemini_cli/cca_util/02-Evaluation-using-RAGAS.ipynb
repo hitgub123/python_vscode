# Evaluation using RAGAS

- Author: [Sungchul Kim](https://github.com/rlatjcj)
- Peer Review: [Yoonji](https://github.com/samdaseuss), [Sunyoung Park](https://github.com/architectyou)
- This is a part of [LangChain Open Tutorial](https://github.com/LangChain-OpenTutorial/LangChain-OpenTutorial)

[![Open in Colab](https://colab.research.google.com/assets/colab-badge.svg)](https://colab.research.google.com/github/LangChain-OpenTutorial/LangChain-OpenTutorial/blob/main/16-Evaluations/02-Evaluation-using-RAGAS.ipynb) [![Open in GitHub](https://img.shields.io/badge/Open%20in%20GitHub-181717?style=flat-square&logo=github&logoColor=white)](https://github.com/LangChain-OpenTutorial/LangChain-OpenTutorial/blob/main/16-Evaluations/02-Evaluation-using-RAGAS.ipynb)

## Overview
This tutorial will show you how to evaluate the quality of your LLM output using `RAGAS` .

Before starting this tutorial, let's review metrics to be used in this tutorial, **Context Recall** , **Context Precision** , **Answer Relevancy** , and **Faithfulness** first.

### Context Recall

It estimates **"how well the retrieved context matches the LLM-generated answer"** .  
It is calculated using question, ground truth, and retrieved context. The value is between 0 and 1, and higher values indicate better performance. To estimate $\text{Context Recall}$ from the ground truth answer, each claim in the ground truth answer is analyzed to see if it can be attributed to the retrieved context. In the ideal scenario, all claims in the ground truth answer should be able to be attributed to the retrieved context.

<p align="center">

$$\text{Context Recall} = \frac{|\text{GT claims that can be attributed to context}|}{|\text{Number of claims in GT}|}$$

</p>


### Context Precision

It estimates **"whether ground-truth related items in contexts are ranked at the top"** .

Ideally, all relevant chunks should appear in the top ranks. This metric is calculated using question, ground_truth, and contexts, with values ranging from 0 to 1. Higher scores indicate better precision.

The formula for $\text{Context Precision@K}$ is as follows:

<p align="center">

$$\text{Context Precision@K} = \frac{\sum_{k=1}^{K} (\text{Precision@k} \times v_k)}{\text{Total number of relevant items in the top K results}}$$

</p>

Here, $\text{Precision@k}$ is calculated as follows:

<p align="center">

$$\text{Precision@k} = \frac{\text{true positives@k}}{(\text{true positives@k + false positives@k})}$$

</p>

$\text{K}$ is the total number of chunks in contexts, and $v_k \in \{0, 1\}$ is the relevance indicator at rank k.

This metric is used to evaluate the quality of the retrieved context in information retrieval systems. It measures how well relevant information is placed in the top ranks, allowing for performance assessment.


### Answer Relevancy (Response Relevancy)

It is a metric that evaluates **"how well the generated answer matches the given prompt"** .

The main features and calculation methods of this metric are as follows:

1. Purpose: Evaluate the relevance of the generated answer.
2. Score interpretation: Lower scores indicate incomplete or duplicate information in the answer, while higher scores indicate better relevance.
3. Elements used in calculation: question, context, answer

The calculation method for $\text{Answer Relevancy}$ is defined as the average cosine similarity between the original question and the generated synthetic questions.

<p align="center">

$$\text{Answer Relevancy} = \frac{1}{N} \sum_{i=1}^N \cos(E_{g_i}, E_o) = \frac{1}{N} \sum_{i=1}^N \frac{E_{g_i} \cdot E_o}{\|E_{g_i}\| \|E_o\|}$$

</p>

Here:
- $E_{g_i}$ : the embedding of the generated question $i$
- $E_o$ : the embedding of the original question
- $N$ : the number of generated questions (default value is 3)

Note:
- The actual score is mostly between 0 and 1, but mathematically it can be between -1 and 1 due to the characteristics of cosine similarity.

This metric is useful for evaluating the performance of question-answering systems, particularly for measuring how well the generated answer reflects the original question's intent.


### Faithfulness

It is a metric that evaluates **"the factual consistency of the generated answer compared to the given context"** .

The main features and calculation methods of this metric are as follows:

1. Purpose: Evaluate the factual consistency of the generated answer compared to the given context.
2. Calculation elements: Use the generated answer and the retrieved context.
3. Score range: Adjusted between 0 and 1, with higher values indicating better performance.

The calculation method for $\text{Faithfulness score}$ is as follows:

<p align="center">

$$\text{Faithfulness score} = \frac{|\text{Number of claims in the generated answer that can be inferred from given context}|}{|\text{Total number of claims in the generated answer}|}$$

</p>

Calculation process:
1. Identify claims in the generated answer.
2. Verify each claim against the given context to check if it can be inferred from the context.
3. Use the above formula to calculate the score.

Example:
- Question: "When and where was Einstein born?"
- Context: "Albert Einstein (born March 14, 1879) is a German-born theoretical physicist, widely considered one of the most influential scientists of all time."
- High faithfulness answer: "Einstein was born in Germany on March 14, 1879."
- Low faithfulness answer: "Einstein was born in Germany on March 20, 1879."

This metric is useful for evaluating the performance of question-answering systems, particularly for measuring how well the generated answer reflects the given context.

### Table of Contents

- [Overview](#overview)
- [Environment Setup](#environment-setup)
- [Load saved RAGAS dataset](#load-saved-ragas-dataset)
- [Evaluate the answers](#evaluate-the-answers)

### References

- [RAGAS Documentation](https://docs.ragas.io/en/stable/)
- [RAGAS Metrics](https://docs.ragas.io/en/stable/concepts/metrics/)
- [RAGAS Metrics - Context Recall](https://docs.ragas.io/en/stable/concepts/metrics/available_metrics/context_recall/)
- [RAGAS Metrics - Context Precision](https://docs.ragas.io/en/stable/concepts/metrics/available_metrics/context_precision/)
- [RAGAS Metrics - Answer Relevancy (Response Relevancy)](https://docs.ragas.io/en/stable/concepts/metrics/available_metrics/answer_relevance)
- [RAGAS Metrics - Faithfulness](https://docs.ragas.io/en/stable/concepts/metrics/available_metrics/faithfulness/)

----